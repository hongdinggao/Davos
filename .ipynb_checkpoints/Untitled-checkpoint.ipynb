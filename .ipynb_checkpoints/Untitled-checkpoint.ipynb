{
 "cells": [
  {
   "cell_type": "markdown",
   "metadata": {},
   "source": [
    "## Day 4 in Davos"
   ]
  },
  {
   "cell_type": "code",
   "execution_count": 4,
   "metadata": {
    "collapsed": false
   },
   "outputs": [
    {
     "data": {
      "text/plain": [
       "10-element Array{Float64,1}:\n",
       "  3.5921  \n",
       "  1.22251 \n",
       "  1.51429 \n",
       "  0.802349\n",
       "  0.75846 \n",
       "  1.45753 \n",
       "  4.0674  \n",
       " -0.480304\n",
       "  1.89292 \n",
       " -1.22334 "
      ]
     },
     "execution_count": 4,
     "metadata": {},
     "output_type": "execute_result"
    }
   ],
   "source": [
    "using Distributions\n",
    "n = 10 #number of observations\n",
    "k = 15  #number of covariates\n",
    "sigmabeta = 0.1\n",
    "sigmares = 1.0\n",
    "x = sample([0,1,2],(n,k))\n",
    "X = [ones(Int64,n) x]\n",
    "\n",
    "betaTrue = [1, rand(Normal(0.0, sqrt(sigmabeta)), k)]\n",
    "y = X*betaTrue + rand(Normal(0.0, sqrt(sigmares)), n)"
   ]
  },
  {
   "cell_type": "code",
   "execution_count": 5,
   "metadata": {
    "collapsed": false
   },
   "outputs": [
    {
     "data": {
      "text/plain": [
       "16-element Array{Float64,1}:\n",
       "  1.09153   \n",
       "  0.0314422 \n",
       "  0.393432  \n",
       " -0.239931  \n",
       " -0.227953  \n",
       " -0.192751  \n",
       "  0.0337991 \n",
       "  0.00734272\n",
       " -0.00604596\n",
       " -0.0689058 \n",
       "  0.131662  \n",
       "  0.241764  \n",
       " -0.13827   \n",
       "  0.216123  \n",
       "  0.108912  \n",
       " -0.217081  "
      ]
     },
     "execution_count": 5,
     "metadata": {},
     "output_type": "execute_result"
    }
   ],
   "source": [
    "λ = sigmares/sigmabeta\n",
    "D = eye(k+1)\n",
    "D[1,1] = 0\n",
    "lhs = X'X + D*λ\n",
    "rhs = X'y\n",
    "invlhs = inv(lhs)\n",
    "solmme = invlhs * rhs"
   ]
  },
  {
   "cell_type": "markdown",
   "metadata": {},
   "source": [
    "### Using MCMC"
   ]
  },
  {
   "cell_type": "code",
   "execution_count": 16,
   "metadata": {
    "collapsed": false
   },
   "outputs": [
    {
     "name": "stdout",
     "output_type": "stream",
     "text": [
      "The posterior mean is   \n",
      "[0.062\n",
      " 0.09\n",
      " 0.455\n",
      " -0.195\n",
      " -0.191\n",
      " -0.126\n",
      " 0.096\n",
      " 0.046\n",
      " 0.052\n",
      " 0.023\n",
      " 0.167\n",
      " 0.29\n",
      " -0.067\n",
      " 0.27\n",
      " 0.221\n",
      " -0.165]\n",
      "The posterior covariance matrix is   \n",
      "[0.608 -0.213 -0.122 -0.046 -0.059 -0.078 -0.011 0.015 -0.011 -0.021 -0.003 0.011 -0.029 -0.011 -0.011 -0.014\n",
      " -0.213 0.188 0.052 0.007 0.02 0.032 -0.017 -0.019 -0.017 -0.006 0.003 -0.026 0.015 -0.003 -0.015 0.005\n",
      " -0.122 0.052 0.099 0.015 0.023 0.025 0.003 -0.01 -0.002 -0.009 -0.016 -0.02 -0.008 -0.0 -0.009 0.001\n",
      " -0.046 0.007 0.015 0.08 0.007 0.007 -0.004 -0.016 -0.003 -0.001 -0.006 0.005 0.002 -0.001 -0.006 0.006\n",
      " -0.059 0.02 0.023 0.007 0.08 -0.001 -0.008 -0.007 0.002 0.004 -0.009 -0.015 -0.008 0.007 0.001 -0.005\n",
      " -0.078 0.032 0.025 0.007 -0.001 0.082 -0.009 -0.007 -0.0 -0.004 -0.016 -0.001 -0.01 -0.007 -0.012 -0.012\n",
      " -0.011 -0.017 0.003 -0.004 -0.008 -0.009 0.082 -0.009 -0.001 0.003 -0.004 0.006 0.004 -0.004 -0.016 -0.009\n",
      " 0.015 -0.019 -0.01 -0.016 -0.007 -0.007 -0.009 0.075 0.001 0.006 -0.015 -0.003 -0.0 0.003 -0.006 0.006\n",
      " -0.011 -0.017 -0.002 -0.003 0.002 -0.0 -0.001 0.001 0.071 -0.003 -0.001 -0.007 0.003 -0.018 0.004 -0.016\n",
      " -0.021 -0.006 -0.009 -0.001 0.004 -0.004 0.003 0.006 -0.003 0.063 0.006 -0.013 -0.011 0.003 -0.013 0.001\n",
      " -0.003 0.003 -0.016 -0.006 -0.009 -0.016 -0.004 -0.015 -0.001 0.006 0.072 -0.009 -0.005 0.004 0.005 -0.002\n",
      " 0.011 -0.026 -0.02 0.005 -0.015 -0.001 0.006 -0.003 -0.007 -0.013 -0.009 0.067 -0.007 -0.002 0.003 0.005\n",
      " -0.029 0.015 -0.008 0.002 -0.008 -0.01 0.004 -0.0 0.003 -0.011 -0.005 -0.007 0.067 -0.007 -0.003 -0.005\n",
      " -0.011 -0.003 -0.0 -0.001 0.007 -0.007 -0.004 0.003 -0.018 0.003 0.004 -0.002 -0.007 0.057 -0.002 -0.0\n",
      " -0.011 -0.015 -0.009 -0.006 0.001 -0.012 -0.016 -0.006 0.004 -0.013 0.005 0.003 -0.003 -0.002 0.063 -0.0\n",
      " -0.014 0.005 0.001 0.006 -0.005 -0.012 -0.009 0.006 -0.016 0.001 -0.002 0.005 -0.005 -0.0 -0.0 0.063]\n"
     ]
    }
   ],
   "source": [
    "using Distributions\n",
    "nit = 10000\n",
    "b     = fill(0.0, k+1) # initial value of b\n",
    "meanB = fill(0.0, k+1)\n",
    "bSample = Array(Float64, nit, k+1)\n",
    "SS = zeros(k+1, k+1)\n",
    "\n",
    "for (i in 1:nit)\n",
    "    \n",
    "    # sampling intercept\n",
    "    w = y - X * b\n",
    "    x = X[:,1]\n",
    "    xpxi = 5.0/(x'x)[1,1]\n",
    "    bHat = (x'w)[1,1]/(x'x)[1,1] \n",
    "    b[1] = rand(Normal(bHat, sqrt(xpxi))) \n",
    "    \n",
    "    # sampling slope\n",
    "    for (mk in 1:k)\n",
    "        b[mk+1] = 0\n",
    "        w = y - X*b\n",
    "        x = X[:,(mk+1)]\n",
    "        bHat = (x'w)[1,1]/(x'x+λ)[1]\n",
    "        xpxi = sigmares/(x'x + λ)[1,1]\n",
    "        b[mk+1] = rand(Normal(bHat, sqrt(xpxi))) \n",
    "    end\n",
    "    meanB = meanB + b\n",
    "    bSample[i, :] = b\n",
    "    SS += b*b'\n",
    "end\n",
    "# posterior mean     \n",
    "bsol = round(mean(bSample, 1)', 3)\n",
    "varsol = round(SS/nit - bsol*bsol', 3)\n",
    "println(\"The posterior mean is   \\n\", bsol)\n",
    "println(\"The posterior covariance matrix is   \\n\", varsol)"
   ]
  },
  {
   "cell_type": "markdown",
   "metadata": {},
   "source": [
    "## RRBLUP and GBLUP"
   ]
  },
  {
   "cell_type": "code",
   "execution_count": 56,
   "metadata": {
    "collapsed": false
   },
   "outputs": [
    {
     "data": {
      "text/plain": [
       "10-element Array{Float64,1}:\n",
       " 10.3521 \n",
       "  8.06541\n",
       " 20.4876 \n",
       " 13.5428 \n",
       " 12.8351 \n",
       " 11.3478 \n",
       "  5.89283\n",
       " 17.5336 \n",
       "  6.97941\n",
       "  9.96573"
      ]
     },
     "execution_count": 56,
     "metadata": {},
     "output_type": "execute_result"
    }
   ],
   "source": [
    "using Distributions\n",
    "n = 10 #number of observations\n",
    "k = 15  #number of markers\n",
    "varg = 15\n",
    "vare = 1.0\n",
    "vara = varg/k \n",
    "λ = vare/vara\n",
    "M = sample([0,1,2],(n,k))\n",
    "mu = 10\n",
    "ONE = ones(n)\n",
    "mk_effect = rand(Normal(0.0, sqrt(vara)), k)\n",
    "y = ONE*mu + M*mk_effect + rand(Normal(0.0, sqrt(vare)), n)\n",
    "lhs = [ONE'ONE ONE'M\n",
    "    M'ONE M'M + λ*eye(k)]\n",
    "rhs = [ONE'y\n",
    "      M'y]\n",
    "invlhs = inv(lhs)\n",
    "sol = invlhs*rhs\n",
    "GEBV =  M*sol[2:end]\n",
    "c22 = invlhs[2:end, 2:end]*vare\n",
    "varuhat = diag(M*eye(k)*M'*vara-M*c22*M')   # PEV for RRBLUP"
   ]
  },
  {
   "cell_type": "code",
   "execution_count": 57,
   "metadata": {
    "collapsed": false
   },
   "outputs": [
    {
     "data": {
      "text/plain": [
       "10-element Array{Float64,1}:\n",
       "  6.38495 \n",
       "  3.903   \n",
       "  6.28545 \n",
       " -0.708353\n",
       "  6.46496 \n",
       "  6.88023 \n",
       "  1.46413 \n",
       "  4.10301 \n",
       "  2.99754 \n",
       "  4.85977 "
      ]
     },
     "execution_count": 57,
     "metadata": {},
     "output_type": "execute_result"
    }
   ],
   "source": [
    "λ2 = vare/vara\n",
    "G = M*M'\n",
    "invG = inv(G)\n",
    "Z = eye(n)\n",
    "lhs = [ONE'ONE ONE'Z\n",
    "    Z'ONE Z'Z + λ2*invG]\n",
    "rhs = [ONE'y\n",
    "      Z'y]\n",
    "invlhs = inv(lhs)\n",
    "sol2 = invlhs*rhs\n",
    "GEBV2 = sol2[2:end] "
   ]
  },
  {
   "cell_type": "code",
   "execution_count": 53,
   "metadata": {
    "collapsed": false
   },
   "outputs": [
    {
     "data": {
      "text/plain": [
       "10-element Array{Float64,1}:\n",
       " 20.341  \n",
       "  9.74164\n",
       "  9.13166\n",
       " 20.3928 \n",
       " 17.4277 \n",
       " 14.8119 \n",
       " 18.8478 \n",
       "  8.55132\n",
       "  9.16448\n",
       " 20.7163 "
      ]
     },
     "execution_count": 53,
     "metadata": {},
     "output_type": "execute_result"
    }
   ],
   "source": [
    "varuhat2 = diag(G*vara-invlhs[2:end, 2:end]*vare)   # PEV for GBLUP"
   ]
  },
  {
   "cell_type": "code",
   "execution_count": 50,
   "metadata": {
    "collapsed": false
   },
   "outputs": [
    {
     "data": {
      "text/plain": [
       "10x15 Array{Int64,2}:\n",
       " 0  0  0  1  2  2  1  2  0  0  1  1  2  0  2\n",
       " 1  0  1  2  0  1  2  1  0  2  1  1  1  0  1\n",
       " 0  0  2  1  2  2  2  0  0  2  1  1  0  2  1\n",
       " 2  1  2  1  0  1  2  0  0  1  0  1  0  0  1\n",
       " 1  2  2  0  0  0  0  0  1  1  0  2  0  0  2\n",
       " 1  2  0  1  0  1  0  1  2  1  1  0  0  0  0\n",
       " 0  2  0  0  0  1  1  0  2  1  2  1  0  2  1\n",
       " 2  0  1  0  2  2  1  2  2  0  0  0  0  2  0\n",
       " 0  1  2  2  2  2  2  2  2  0  0  1  0  0  0\n",
       " 2  1  0  2  0  2  0  2  0  2  2  2  0  1  1"
      ]
     },
     "execution_count": 50,
     "metadata": {},
     "output_type": "execute_result"
    }
   ],
   "source": [
    "M"
   ]
  },
  {
   "cell_type": "code",
   "execution_count": 58,
   "metadata": {
    "collapsed": false
   },
   "outputs": [
    {
     "data": {
      "text/plain": [
       "10-element Array{Float64,1}:\n",
       "  6.38495 \n",
       "  3.903   \n",
       "  6.28545 \n",
       " -0.708353\n",
       "  6.46496 \n",
       "  6.88023 \n",
       "  1.46413 \n",
       "  4.10301 \n",
       "  2.99754 \n",
       "  4.85977 "
      ]
     },
     "execution_count": 58,
     "metadata": {},
     "output_type": "execute_result"
    }
   ],
   "source": [
    "GEBV"
   ]
  },
  {
   "cell_type": "code",
   "execution_count": 59,
   "metadata": {
    "collapsed": false
   },
   "outputs": [
    {
     "data": {
      "text/plain": [
       "10-element Array{Float64,1}:\n",
       "  6.38495 \n",
       "  3.903   \n",
       "  6.28545 \n",
       " -0.708353\n",
       "  6.46496 \n",
       "  6.88023 \n",
       "  1.46413 \n",
       "  4.10301 \n",
       "  2.99754 \n",
       "  4.85977 "
      ]
     },
     "execution_count": 59,
     "metadata": {},
     "output_type": "execute_result"
    }
   ],
   "source": [
    "GEBV2"
   ]
  },
  {
   "cell_type": "code",
   "execution_count": 60,
   "metadata": {
    "collapsed": false
   },
   "outputs": [
    {
     "data": {
      "text/plain": [
       "10-element Array{Float64,1}:\n",
       " 10.3521 \n",
       "  8.06541\n",
       " 20.4876 \n",
       " 13.5428 \n",
       " 12.8351 \n",
       " 11.3478 \n",
       "  5.89283\n",
       " 17.5336 \n",
       "  6.97941\n",
       "  9.96573"
      ]
     },
     "execution_count": 60,
     "metadata": {},
     "output_type": "execute_result"
    }
   ],
   "source": [
    "varuhat"
   ]
  },
  {
   "cell_type": "code",
   "execution_count": 61,
   "metadata": {
    "collapsed": false
   },
   "outputs": [
    {
     "data": {
      "text/plain": [
       "10-element Array{Float64,1}:\n",
       " 20.341  \n",
       "  9.74164\n",
       "  9.13166\n",
       " 20.3928 \n",
       " 17.4277 \n",
       " 14.8119 \n",
       " 18.8478 \n",
       "  8.55132\n",
       "  9.16448\n",
       " 20.7163 "
      ]
     },
     "execution_count": 61,
     "metadata": {},
     "output_type": "execute_result"
    }
   ],
   "source": [
    "varuhat2"
   ]
  },
  {
   "cell_type": "markdown",
   "metadata": {},
   "source": [
    "### Model with unknown vara"
   ]
  },
  {
   "cell_type": "code",
   "execution_count": 63,
   "metadata": {
    "collapsed": false
   },
   "outputs": [
    {
     "data": {
      "text/plain": [
       "10-element Array{Float64,1}:\n",
       " 1.07476 \n",
       " 2.18056 \n",
       " 0.834674\n",
       " 2.89279 \n",
       " 4.20607 \n",
       " 0.412375\n",
       " 1.24854 \n",
       " 2.71058 \n",
       " 3.23621 \n",
       " 0.332339"
      ]
     },
     "execution_count": 63,
     "metadata": {},
     "output_type": "execute_result"
    }
   ],
   "source": [
    "using Distributions\n",
    "n = 10 #number of observations\n",
    "k = 15  #number of covariates\n",
    "sigmabeta = 0.1\n",
    "sigmares = 1.0\n",
    "x = sample([0,1,2],(n,k))\n",
    "X = [ones(Int64,n) x]\n",
    "\n",
    "betaTrue = [1, rand(Normal(0.0, sqrt(sigmabeta)), k)]\n",
    "y = X*betaTrue + rand(Normal(0.0, sqrt(sigmares)), n)"
   ]
  },
  {
   "cell_type": "code",
   "execution_count": 64,
   "metadata": {
    "collapsed": false
   },
   "outputs": [
    {
     "name": "stdout",
     "output_type": "stream",
     "text": [
      "The posterior mean is   \n",
      "[1.826\n",
      " 0.169\n",
      " 0.275\n",
      " 0.098\n",
      " -0.066\n",
      " -0.033\n",
      " -0.194\n",
      " 0.006\n",
      " 0.108\n",
      " 0.075\n",
      " 0.016\n",
      " 0.276\n",
      " -0.189\n",
      " -0.074\n",
      " -0.25\n",
      " 0.144]\n",
      "The posterior covariance matrix is   \n",
      "[2.037 -0.049 -0.164 -0.159 -0.075 -0.15 -0.159 -0.135 -0.011 -0.179 -0.105 -0.088 -0.106 -0.138 -0.078 -0.076\n",
      " -0.049 0.094 0.007 -0.006 -0.004 -0.01 -0.007 0.011 -0.007 -0.007 0.008 0.021 -0.02 0.01 -0.015 0.005\n",
      " -0.164 0.007 0.112 0.0 0.004 0.013 -0.01 0.001 0.013 0.001 0.012 0.004 0.012 0.001 -0.006 -0.023\n",
      " -0.159 -0.006 0.0 0.082 -0.004 -0.011 0.004 0.006 0.018 0.025 0.003 0.014 -0.009 0.018 0.006 -0.004\n",
      " -0.075 -0.004 0.004 -0.004 0.087 0.007 0.007 0.004 -0.014 0.014 -0.016 -0.004 -0.01 -0.004 -0.004 -0.017\n",
      " -0.15 -0.01 0.013 -0.011 0.007 0.077 0.002 0.013 0.002 0.007 -0.005 -0.005 0.006 -0.006 0.009 0.017\n",
      " -0.159 -0.007 -0.01 0.004 0.007 0.002 0.109 0.018 -0.002 -0.0 0.015 -0.004 -0.007 -0.009 0.016 0.007\n",
      " -0.135 0.011 0.001 0.006 0.004 0.013 0.018 0.088 -0.01 -0.01 -0.013 -0.007 0.003 0.002 -0.008 0.012\n",
      " -0.011 -0.007 0.013 0.018 -0.014 0.002 -0.002 -0.01 0.095 -0.003 -0.005 0.0 -0.016 -0.008 -0.009 0.005\n",
      " -0.179 -0.007 0.001 0.025 0.014 0.007 -0.0 -0.01 -0.003 0.092 0.01 0.01 -0.007 0.016 -0.013 0.009\n",
      " -0.105 0.008 0.012 0.003 -0.016 -0.005 0.015 -0.013 -0.005 0.01 0.108 -0.008 -0.003 0.003 -0.005 0.007\n",
      " -0.088 0.021 0.004 0.014 -0.004 -0.005 -0.004 -0.007 0.0 0.01 -0.008 0.109 0.003 -0.015 0.004 0.015\n",
      " -0.106 -0.02 0.012 -0.009 -0.01 0.006 -0.007 0.003 -0.016 -0.007 -0.003 0.003 0.101 0.019 0.007 -0.003\n",
      " -0.138 0.01 0.001 0.018 -0.004 -0.006 -0.009 0.002 -0.008 0.016 0.003 -0.015 0.019 0.087 -0.012 -0.01\n",
      " -0.078 -0.015 -0.006 0.006 -0.004 0.009 0.016 -0.008 -0.009 -0.013 -0.005 0.004 0.007 -0.012 0.089 -0.021\n",
      " -0.076 0.005 -0.023 -0.004 -0.017 0.017 0.007 0.012 0.005 0.009 0.007 0.015 -0.003 -0.01 -0.021 0.093]\n",
      "The posterior mean of vara is   \n",
      "0.12959890604144905\n"
     ]
    }
   ],
   "source": [
    "using Distributions\n",
    "nit = 10000\n",
    "df = 4\n",
    "scalevar = 0.1\n",
    "b     = fill(0.0, k+1) # initial value of b\n",
    "meanB = fill(0.0, k+1)\n",
    "bSample = Array(Float64, nit, k+1)\n",
    "SS = zeros(k+1, k+1)\n",
    "varSample = zeros(nit)\n",
    "\n",
    "\n",
    "for (i in 1:nit)\n",
    "    \n",
    "    # sampling intercept\n",
    "    w = y - X * b + X[:,1]*b[1]\n",
    "    x = X[:,1]\n",
    "    xpxi = 1/(x'x)[1,1]\n",
    "    bHat = (x'w)[1,1]/(x'x)[1,1] \n",
    "    b[1] = rand(Normal(bHat, sqrt(xpxi))) \n",
    "    \n",
    "    # sampling slope\n",
    "    λ=sigmares/sigmabeta\n",
    "    for (mk in 1:k)\n",
    "        b[mk+1] = 0\n",
    "        w = y - X*b\n",
    "        x = X[:,(mk+1)]\n",
    "        bHat = (x'w)[1,1]/(x'x+λ)[1]\n",
    "        xpxi = sigmares/(x'x + λ)[1,1]\n",
    "        b[mk+1] = rand(Normal(bHat, sqrt(xpxi))) \n",
    "    end\n",
    "    \n",
    "    # sampling vara\n",
    "    sigmabeta = (df*scalevar + dot(b[2:end],b[2:end]))/rand(Chisq(df+k))\n",
    "    \n",
    "    meanB = meanB + b\n",
    "    bSample[i, :] = b\n",
    "    varSample[i]=sigmabeta\n",
    "    SS += b*b'\n",
    "end\n",
    "# posterior mean     \n",
    "bsol = round(mean(bSample, 1)', 3)\n",
    "varsol = round(SS/nit - bsol*bsol', 3)\n",
    "println(\"The posterior mean is   \\n\", bsol)\n",
    "println(\"The posterior covariance matrix is   \\n\", varsol)\n",
    "println(\"The posterior mean of vara is   \\n\", mean(varSample))"
   ]
  },
  {
   "cell_type": "code",
   "execution_count": null,
   "metadata": {
    "collapsed": true
   },
   "outputs": [],
   "source": []
  }
 ],
 "metadata": {
  "kernelspec": {
   "display_name": "Julia 0.3.9",
   "language": "julia",
   "name": "julia-0.3"
  },
  "language_info": {
   "name": "julia",
   "version": "0.3.9"
  }
 },
 "nbformat": 4,
 "nbformat_minor": 0
}
