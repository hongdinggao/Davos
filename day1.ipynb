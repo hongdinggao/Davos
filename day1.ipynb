{
 "cells": [
  {
   "cell_type": "markdown",
   "metadata": {},
   "source": [
    "## The first day in Davos"
   ]
  },
  {
   "cell_type": "markdown",
   "metadata": {},
   "source": [
    "### put ; in the end of command to hide the result"
   ]
  },
  {
   "cell_type": "code",
   "execution_count": 41,
   "metadata": {
    "collapsed": false
   },
   "outputs": [
    {
     "data": {
      "text/plain": [
       "6x10 Array{Int64,2}:\n",
       " 0  1  0  2  2  0  1  2  2  2\n",
       " 1  1  0  0  0  2  0  1  0  1\n",
       " 0  1  2  1  1  0  0  0  2  2\n",
       " 2  0  2  2  2  1  2  2  1  0\n",
       " 1  1  2  1  2  2  0  2  0  2\n",
       " 0  1  0  0  1  0  1  2  2  1"
      ]
     },
     "execution_count": 41,
     "metadata": {},
     "output_type": "execute_result"
    }
   ],
   "source": [
    "using Distributions\n",
    "nanimal = 6\n",
    "nloci = 10\n",
    "X = sample(0:2, (nanimal, nloci));  # sample the SNP codes"
   ]
  },
  {
   "cell_type": "code",
   "execution_count": 30,
   "metadata": {
    "collapsed": false
   },
   "outputs": [
    {
     "data": {
      "text/plain": [
       "6-element Array{Float64,1}:\n",
       " 1.0\n",
       " 1.0\n",
       " 1.0\n",
       " 1.0\n",
       " 1.0\n",
       " 1.0"
      ]
     },
     "execution_count": 30,
     "metadata": {},
     "output_type": "execute_result"
    }
   ],
   "source": [
    "# set the general mean\n",
    "mu = ones(nanimal)"
   ]
  },
  {
   "cell_type": "code",
   "execution_count": 31,
   "metadata": {
    "collapsed": false
   },
   "outputs": [
    {
     "data": {
      "text/plain": [
       "6-element Array{Int64,1}:\n",
       " 1\n",
       " 1\n",
       " 1\n",
       " 1\n",
       " 1\n",
       " 1"
      ]
     },
     "execution_count": 31,
     "metadata": {},
     "output_type": "execute_result"
    }
   ],
   "source": [
    "mu = int(mu)  # chenge the code to integer"
   ]
  },
  {
   "cell_type": "code",
   "execution_count": 39,
   "metadata": {
    "collapsed": false
   },
   "outputs": [
    {
     "data": {
      "text/plain": [
       "6x11 Array{Int64,2}:\n",
       " 1  0  0  0  0  2  0  2  1  1  2\n",
       " 1  1  1  1  0  1  0  0  1  2  2\n",
       " 1  2  0  1  2  0  2  2  1  1  1\n",
       " 1  0  0  1  2  2  2  0  0  1  2\n",
       " 1  1  2  0  0  1  1  0  2  2  0\n",
       " 1  2  1  1  0  2  2  0  1  1  2"
      ]
     },
     "execution_count": 39,
     "metadata": {},
     "output_type": "execute_result"
    }
   ],
   "source": [
    "# add mu into X\n",
    "X = hcat(mu, X)"
   ]
  },
  {
   "cell_type": "markdown",
   "metadata": {},
   "source": [
    "## simulate the SNP effects"
   ]
  },
  {
   "cell_type": "code",
   "execution_count": 37,
   "metadata": {
    "collapsed": false
   },
   "outputs": [
    {
     "data": {
      "text/plain": [
       "11"
      ]
     },
     "execution_count": 37,
     "metadata": {},
     "output_type": "execute_result"
    }
   ],
   "source": [
    "# simulate the effect\n",
    "me = 0.0; std = 0.5;\n",
    "b = rand(Normal(me, std), nloci + 1)\n",
    "length(b)"
   ]
  },
  {
   "cell_type": "code",
   "execution_count": 25,
   "metadata": {
    "collapsed": false
   },
   "outputs": [
    {
     "data": {
      "text/plain": [
       "2.0"
      ]
     },
     "execution_count": 25,
     "metadata": {},
     "output_type": "execute_result"
    }
   ],
   "source": [
    "Base.mean(1:3) # if I over-write the mean function"
   ]
  },
  {
   "cell_type": "markdown",
   "metadata": {},
   "source": [
    "## simulate the phenotype"
   ]
  },
  {
   "cell_type": "code",
   "execution_count": 40,
   "metadata": {
    "collapsed": false
   },
   "outputs": [
    {
     "data": {
      "text/plain": [
       "6-element Array{Float64,1}:\n",
       " -0.276541\n",
       "  1.18978 \n",
       " -0.251366\n",
       " -0.148648\n",
       " -0.643657\n",
       "  1.29263 "
      ]
     },
     "execution_count": 40,
     "metadata": {},
     "output_type": "execute_result"
    }
   ],
   "source": [
    "resd = 1.0\n",
    "y = X*b + rand(Normal(0, resd), nanimal)"
   ]
  },
  {
   "cell_type": "code",
   "execution_count": 1,
   "metadata": {
    "collapsed": false
   },
   "outputs": [
    {
     "data": {
      "text/plain": [
       "6-element Array{Float64,1}:\n",
       " 1.0\n",
       " 1.0\n",
       " 1.0\n",
       " 1.0\n",
       " 1.0\n",
       " 1.0"
      ]
     },
     "execution_count": 1,
     "metadata": {},
     "output_type": "execute_result"
    }
   ],
   "source": [
    "ones(6)"
   ]
  },
  {
   "cell_type": "markdown",
   "metadata": {},
   "source": [
    "## Write a function\n",
    "$$y = Xb + e$$"
   ]
  },
  {
   "cell_type": "code",
   "execution_count": 14,
   "metadata": {
    "collapsed": false
   },
   "outputs": [
    {
     "data": {
      "text/plain": [
       "SimData (generic function with 1 method)"
      ]
     },
     "execution_count": 14,
     "metadata": {},
     "output_type": "execute_result"
    }
   ],
   "source": [
    "using Distributions\n",
    "function SimData(nanimal, nloci, bme, bsd, resd)\n",
    "    X = [ones(nanimal, 1) sample(0:2, (nanimal, nloci))]\n",
    "    srand(123) # set seed\n",
    "    b = rand(Normal(bme, bsd), size(X, 2))\n",
    "    e = rand(Normal(0, resd), size(X, 1))\n",
    "    y = X*b + e\n",
    "    return(y, X, b, e)\n",
    "end"
   ]
  },
  {
   "cell_type": "code",
   "execution_count": 23,
   "metadata": {
    "collapsed": false
   },
   "outputs": [
    {
     "data": {
      "text/plain": [
       "5-element Array{Float64,1}:\n",
       "  2.97567 \n",
       "  5.12045 \n",
       "  2.85663 \n",
       "  1.14854 \n",
       " -0.991698"
      ]
     },
     "execution_count": 23,
     "metadata": {},
     "output_type": "execute_result"
    }
   ],
   "source": [
    "y = SimData(6, 4, 0, 2.5, 1)[1]\n",
    "X = SimData(6, 4, 0, 2.5, 1)[2]\n",
    "b = SimData(6, 4, 0, 2.5, 1)[3]"
   ]
  },
  {
   "cell_type": "code",
   "execution_count": 21,
   "metadata": {
    "collapsed": false
   },
   "outputs": [
    {
     "data": {
      "text/plain": [
       "5-element Array{Float64,1}:\n",
       "  0.142095\n",
       "  1.07244 \n",
       "  2.0688  \n",
       "  5.25476 \n",
       " 43.4619  "
      ]
     },
     "execution_count": 21,
     "metadata": {},
     "output_type": "execute_result"
    }
   ],
   "source": [
    "eigvals(X'X)"
   ]
  },
  {
   "cell_type": "code",
   "execution_count": 22,
   "metadata": {
    "collapsed": false
   },
   "outputs": [
    {
     "data": {
      "text/plain": [
       "5-element Array{Float64,1}:\n",
       "  0.115631\n",
       "  3.37424 \n",
       " -2.53874 \n",
       " -2.53291 \n",
       "  9.85451 "
      ]
     },
     "execution_count": 22,
     "metadata": {},
     "output_type": "execute_result"
    }
   ],
   "source": [
    "bHat = X'X\\X'y"
   ]
  },
  {
   "cell_type": "code",
   "execution_count": 24,
   "metadata": {
    "collapsed": false
   },
   "outputs": [
    {
     "data": {
      "text/plain": [
       "-0.4367074639421907"
      ]
     },
     "execution_count": 24,
     "metadata": {},
     "output_type": "execute_result"
    }
   ],
   "source": [
    "cor(b, bHat)"
   ]
  },
  {
   "cell_type": "code",
   "execution_count": 25,
   "metadata": {
    "collapsed": false
   },
   "outputs": [
    {
     "data": {
      "text/plain": [
       "5"
      ]
     },
     "execution_count": 25,
     "metadata": {},
     "output_type": "execute_result"
    }
   ],
   "source": [
    "rank(X'X)"
   ]
  },
  {
   "cell_type": "code",
   "execution_count": 26,
   "metadata": {
    "collapsed": false
   },
   "outputs": [
    {
     "data": {
      "text/plain": [
       "6-element Array{Float64,1}:\n",
       "  7.43141\n",
       " 16.7186 \n",
       "  9.11406\n",
       " 14.1857 \n",
       " 13.0556 \n",
       "  9.10823"
      ]
     },
     "execution_count": 26,
     "metadata": {},
     "output_type": "execute_result"
    }
   ],
   "source": [
    "X*bHat"
   ]
  },
  {
   "cell_type": "code",
   "execution_count": 27,
   "metadata": {
    "collapsed": false
   },
   "outputs": [
    {
     "data": {
      "text/plain": [
       "([0.142095,1.07244,2.0688,5.25476,43.4619],\n",
       "5x5 Array{Float64,2}:\n",
       " -0.79652    0.257169  -0.406957    0.0914043  -0.354193\n",
       "  0.193567  -0.380955   0.0360288   0.698348   -0.573077\n",
       "  0.030697  -0.592628  -0.226107   -0.65551    -0.408695\n",
       " -0.177674   0.228784   0.821248   -0.226386   -0.436339\n",
       "  0.543671   0.620635  -0.327896   -0.151696   -0.434404)"
      ]
     },
     "execution_count": 27,
     "metadata": {},
     "output_type": "execute_result"
    }
   ],
   "source": [
    "eig(X'X)"
   ]
  },
  {
   "cell_type": "code",
   "execution_count": 28,
   "metadata": {
    "collapsed": false
   },
   "outputs": [
    {
     "data": {
      "text/html": [
       "1 method for generic function <b>eig</b>:<ul><li> eig(A::<b>Union(Number,AbstractArray{T,2})</b>,args...) at <a href=\"https://github.com/JuliaLang/julia/tree/31efe690bea1fd8f4e44692e205fb72d34f50ad3/base/linalg/factorization.jl#L591\" target=\"_blank\">linalg/factorization.jl:591</a></ul>"
      ],
      "text/plain": [
       "# 1 method for generic function \"eig\":\n",
       "eig(A::Union(Number,AbstractArray{T,2}),args...) at linalg/factorization.jl:591"
      ]
     },
     "execution_count": 28,
     "metadata": {},
     "output_type": "execute_result"
    }
   ],
   "source": [
    "methods(eig)"
   ]
  },
  {
   "cell_type": "code",
   "execution_count": null,
   "metadata": {
    "collapsed": true
   },
   "outputs": [],
   "source": []
  }
 ],
 "metadata": {
  "kernelspec": {
   "display_name": "Julia 0.3.9",
   "language": "julia",
   "name": "julia-0.3"
  },
  "language_info": {
   "name": "julia",
   "version": "0.3.9"
  }
 },
 "nbformat": 4,
 "nbformat_minor": 0
}
