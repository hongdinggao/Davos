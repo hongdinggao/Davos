{
 "cells": [
  {
   "cell_type": "markdown",
   "metadata": {},
   "source": [
    "## The 2nd day in Davos\n",
    "### Focus on MCMC methods today  \n",
    "-  Need to calculate the truncate point"
   ]
  },
  {
   "cell_type": "code",
   "execution_count": 5,
   "metadata": {
    "collapsed": false
   },
   "outputs": [
    {
     "name": "stdout",
     "output_type": "stream",
     "text": [
      "mean     =    21.41  \n",
      "var      =    26.85  \n"
     ]
    }
   ],
   "source": [
    "using Distributions\n",
    "μ = 10\n",
    "σ = 10\n",
    "t = 15\n",
    "s = (t - μ)/σ\n",
    "d = Normal(0, 1)\n",
    "i = pdf(d, s)/(1 - cdf(d, s))\n",
    "meanT = μ + σ*i\n",
    "varT = σ^2*(1 - i*(i - s))\n",
    "@printf \"mean     = %8.2f  \\n\" meanT\n",
    "@printf \"var      = %8.2f  \\n\" varT"
   ]
  },
  {
   "cell_type": "markdown",
   "metadata": {},
   "source": [
    "### MC method  \n",
    "- Much better"
   ]
  },
  {
   "cell_type": "code",
   "execution_count": 1,
   "metadata": {
    "collapsed": false
   },
   "outputs": [
    {
     "ename": "LoadError",
     "evalue": "t not defined\nwhile loading In[1], in expression starting on line 5",
     "output_type": "error",
     "traceback": [
      "t not defined\nwhile loading In[1], in expression starting on line 5",
      ""
     ]
    }
   ],
   "source": [
    "using Distributions\n",
    "μ = 10\n",
    "σ = 10\n",
    "z = rand(Normal(μ, σ), 10000)\n",
    "mc_mean = mean(z[z .> t])\n",
    "mc_var = var(z[z .> t])\n",
    "@printf \"mean     = %8.2f  \\n\" mc_mean\n",
    "@printf \"var      = %8.2f  \\n\" mc_var"
   ]
  },
  {
   "cell_type": "markdown",
   "metadata": {},
   "source": [
    "### Bivariate case"
   ]
  },
  {
   "cell_type": "code",
   "execution_count": 22,
   "metadata": {
    "collapsed": false
   },
   "outputs": [
    {
     "data": {
      "text/plain": [
       "2-element Array{Float64,1}:\n",
       " 0.0\n",
       " 0.0"
      ]
     },
     "execution_count": 22,
     "metadata": {},
     "output_type": "execute_result"
    }
   ],
   "source": [
    "μ = [0.0\n",
    "    0.0]"
   ]
  },
  {
   "cell_type": "code",
   "execution_count": 23,
   "metadata": {
    "collapsed": false
   },
   "outputs": [
    {
     "data": {
      "text/plain": [
       "2x2 Array{Float64,2}:\n",
       " 1.0  0.3\n",
       " 0.3  1.0"
      ]
     },
     "execution_count": 23,
     "metadata": {},
     "output_type": "execute_result"
    }
   ],
   "source": [
    "V = [1.0 0.3\n",
    "      0.3 1.0]"
   ]
  },
  {
   "cell_type": "code",
   "execution_count": 24,
   "metadata": {
    "collapsed": false
   },
   "outputs": [
    {
     "data": {
      "text/plain": [
       "10000x2 Array{Float64,2}:\n",
       "  1.31618     2.14513 \n",
       " -0.284121   -0.331597\n",
       "  0.685744    0.642801\n",
       "  0.02178     0.288295\n",
       "  1.06012     0.119728\n",
       "  1.29534     1.61772 \n",
       " -1.02127     0.448311\n",
       "  0.195229   -1.30403 \n",
       "  0.766059   -0.269316\n",
       " -0.634323   -0.558635\n",
       " -0.142248    0.297923\n",
       "  0.909844   -0.577306\n",
       "  0.831251   -0.770879\n",
       "  ⋮                   \n",
       " -0.355703    0.911417\n",
       " -2.48112    -1.71322 \n",
       "  2.38353     0.524021\n",
       " -0.989931   -1.44586 \n",
       " -1.92034     0.61979 \n",
       " -1.23565    -1.11905 \n",
       "  0.0845248   0.888092\n",
       "  0.0535568  -0.316295\n",
       "  2.03408     1.42669 \n",
       " -1.16051    -0.746082\n",
       " -1.03258    -0.463581\n",
       " -0.575096   -1.98608 "
      ]
     },
     "execution_count": 24,
     "metadata": {},
     "output_type": "execute_result"
    }
   ],
   "source": [
    "using Distributions\n",
    "d = MvNormal(μ, V)\n",
    "XY = rand(d, 10000)'  # remember the t()"
   ]
  },
  {
   "cell_type": "code",
   "execution_count": 38,
   "metadata": {
    "collapsed": false
   },
   "outputs": [
    {
     "data": {
      "text/plain": [
       "500"
      ]
     },
     "execution_count": 38,
     "metadata": {},
     "output_type": "execute_result"
    }
   ],
   "source": [
    "selY = XY[(XY[:, 1] .> -1) & (XY[:, 1] .< 1), 2]\n",
    "selY = sort(selY, rev=true)[1:0.05*10000]\n",
    "length(selY)"
   ]
  },
  {
   "cell_type": "code",
   "execution_count": 39,
   "metadata": {
    "collapsed": false
   },
   "outputs": [
    {
     "name": "stdout",
     "output_type": "stream",
     "text": [
      "The mean is  1.840958336989763\n",
      "The var is  0.16361185881407336\n"
     ]
    }
   ],
   "source": [
    "println(\"The mean is  \", mean(selY))\n",
    "println(\"The var is  \", var(selY))"
   ]
  },
  {
   "cell_type": "code",
   "execution_count": 49,
   "metadata": {
    "collapsed": false
   },
   "outputs": [
    {
     "name": "stdout",
     "output_type": "stream",
     "text": [
      "2.091132480497743\n",
      "0.12196491867784594\n"
     ]
    }
   ],
   "source": [
    "#selX = XY[(XY[:, 2] .> -1) & (XY[:, 2] .< 1), 1]\n",
    "selX = XY[:, 1]    # not select the second trait     \n",
    "selX = sort(selX, rev=true)[1:0.05*10000]\n",
    "println(mean(selX))\n",
    "println(var(selX))"
   ]
  },
  {
   "cell_type": "markdown",
   "metadata": {},
   "source": [
    "### MCMC"
   ]
  },
  {
   "cell_type": "code",
   "execution_count": 56,
   "metadata": {
    "collapsed": false
   },
   "outputs": [
    {
     "data": {
      "text/plain": [
       "SimData (generic function with 1 method)"
      ]
     },
     "execution_count": 56,
     "metadata": {},
     "output_type": "execute_result"
    }
   ],
   "source": [
    "using Distributions\n",
    "function SimData(nanimal, nloci, bme, bsd, resd)\n",
    "    X = sample(0:2, (nanimal, nloci))\n",
    "    srand(123) # set seed\n",
    "    b = rand(Normal(bme, bsd), size(X, 2))\n",
    "    e = rand(Normal(0, resd), size(X, 1))\n",
    "    y = X*b + e\n",
    "    return(y, X, b, e)     # tuple returned\n",
    "end"
   ]
  },
  {
   "cell_type": "code",
   "execution_count": 100,
   "metadata": {
    "collapsed": false
   },
   "outputs": [
    {
     "name": "stdout",
     "output_type": "stream",
     "text": [
      "The round is 100\n",
      "The round is 200\n",
      "The round is 300\n",
      "The round is 400\n",
      "The round is 500\n",
      "The round is 600\n",
      "The round is 700\n",
      "The round is 800\n",
      "The round is 900\n",
      "The round is 1000\n",
      "The round is 1100\n",
      "The round is 1200\n",
      "The round is 1300\n",
      "The round is 1400\n",
      "The round is 1500\n",
      "The round is 1600\n",
      "The round is 1700\n",
      "The round is 1800\n",
      "The round is 1900\n",
      "The round is 2000\n"
     ]
    },
    {
     "data": {
      "text/plain": [
       "6x1 Array{Float64,2}:\n",
       " 13.5258 \n",
       "  9.82991\n",
       " 16.9011 \n",
       " 17.1539 \n",
       "  9.65904\n",
       " 10.9974 "
      ]
     },
     "execution_count": 100,
     "metadata": {},
     "output_type": "execute_result"
    }
   ],
   "source": [
    "using Distributions\n",
    "# set the parameters\n",
    "ninter = 2000\n",
    "nanimal = 6\n",
    "nloci = 4\n",
    "bme = 0\n",
    "bsd = 2.5\n",
    "resd = 1.0\n",
    "getdata = SimData(nanimal, nloci, bme, bsd, resd)\n",
    "y = getdata[1]\n",
    "X = getdata[2]\n",
    "# for store mu and b\n",
    "bSample = Array(Float64, ninter, nloci)\n",
    "muSample = Array(Float64, ninter)\n",
    "# initiate the mu and b\n",
    "b = fill(0.01, nloci)\n",
    "ONE = fill(1.0, nanimal)\n",
    "mu = 0.0\n",
    "# start the Gibbs sampler\n",
    "for (i in 1:ninter)\n",
    "    if i%100 == 0\n",
    "        println(\"The round is $i\")\n",
    "    end\n",
    "    # sampling mu from a Normal distribution\n",
    "    #mu = rand(Normal(((ONE'y - ONE'X*b)/nanimal)[1], sqrt(resd^2/nanimal)))[1]\n",
    "    mu = rand(Normal(((ONE'y - ONE'X*b)/nanimal)[1]))\n",
    "    # sampling b from a Normal distribution\n",
    "    z = fill(0.0, nanimal)\n",
    "    for (mk in 1:nloci)\n",
    "        btemp = copy(b)\n",
    "        btemp[mk] = 0.0\n",
    "        z = X[:, mk]\n",
    "        mm = (z'y - z'X*btemp - z'ONE*mu)/(z'z)  # the mean of the Normal distribution\n",
    "        b[mk] = rand(Normal(mm[1], sqrt(resd^2/(z'z)[1])))\n",
    "        #b[mk] = rand(Normal(mm[1], sqrt(resd^2)))\n",
    "    end\n",
    "    # store the samplers\n",
    "    bSample[i, :] = b\n",
    "    muSample[i] = mu\n",
    "end\n",
    "# posterior mean     \n",
    "bsol = mean(bSample, 1)\n",
    "GEBV = X*bsol'\n",
    "\n",
    "\n",
    "\n"
   ]
  },
  {
   "cell_type": "code",
   "execution_count": 92,
   "metadata": {
    "collapsed": false
   },
   "outputs": [
    {
     "data": {
      "text/plain": [
       "0.07692307692307693"
      ]
     },
     "execution_count": 92,
     "metadata": {},
     "output_type": "execute_result"
    }
   ],
   "source": [
    "resd^2/(z'z)[1]        \n",
    "#rand(Normal(mm, sqrt(resd^2/(z'z))[1]))\n"
   ]
  },
  {
   "cell_type": "code",
   "execution_count": 66,
   "metadata": {
    "collapsed": false
   },
   "outputs": [
    {
     "data": {
      "text/plain": [
       "7.802866226882911"
      ]
     },
     "execution_count": 66,
     "metadata": {},
     "output_type": "execute_result"
    }
   ],
   "source": [
    "rand(Normal(8.99685))"
   ]
  },
  {
   "cell_type": "code",
   "execution_count": null,
   "metadata": {
    "collapsed": true
   },
   "outputs": [],
   "source": []
  },
  {
   "cell_type": "code",
   "execution_count": null,
   "metadata": {
    "collapsed": true
   },
   "outputs": [],
   "source": []
  }
 ],
 "metadata": {
  "kernelspec": {
   "display_name": "Julia 0.3.11",
   "language": "julia",
   "name": "julia-0.3"
  },
  "language_info": {
   "name": "julia",
   "version": "0.3.11"
  }
 },
 "nbformat": 4,
 "nbformat_minor": 0
}
