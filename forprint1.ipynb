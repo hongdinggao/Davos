{
 "cells": [
  {
   "cell_type": "markdown",
   "metadata": {},
   "source": [
    "### Introduction\n",
    "\n",
    "~~According the discussion of yesterday~~\n",
    "I did a small simulation based on 10 obvervasions and 15 SNP markers using **SNP-BLUP model** (**BayesC0**) but only sample the location parameters\n",
    "\n",
    "-  chunk 1: Direct solving the MME by invert the coefficient matrix\n",
    "-  chunk 2: Solving using Gibbs sampler as discripted in Just Jensen's Acta 1994 paper (Also DMU use the way)\n",
    "-  chunk 3: Gibbs sampler using residual updating\n",
    "\n",
    "One thing I figured out is that the MCMC chain for the small dataset need be relatively longer than normal, here I used 500000, then I got the two Gibbs sampler (chunk 2 and 3) having the same solusion.\n",
    "\n",
    "The results from 2 Gibbs sampler were still tiny different compared chunk 1, but is in the second decimal (I think it's acceptable)\n",
    "\n",
    "### Conclusion\n",
    "\n",
    "- ~~Gibbs sampler using residual updating has no problem by resulting the same solution,~~ and it is more \"programming convenient\"\n",
    "compared with the \"Standard updating\"\n",
    "\n",
    "\n",
    "P.S. residual updating method **ONLY** works when the effects are uncorrelated."
   ]
  },
  {
   "cell_type": "code",
   "execution_count": 1,
   "metadata": {
    "collapsed": false
   },
   "outputs": [
    {
     "data": {
      "text/plain": [
       "10-element Array{Float64,1}:\n",
       " -0.964976\n",
       " -1.63135 \n",
       " -1.10211 \n",
       " -4.84306 \n",
       "  0.642259\n",
       "  3.0403  \n",
       " -7.43588 \n",
       " -1.20203 \n",
       " -0.810783\n",
       " -0.591994"
      ]
     },
     "execution_count": 1,
     "metadata": {},
     "output_type": "execute_result"
    }
   ],
   "source": [
    "# Direct solving the MME\n",
    "using Distributions\n",
    "n = 10  # number of observations\n",
    "k = 15  # number of markers\n",
    "varg = 15  # total genetic genetic variance\n",
    "vare = 1.0  # residual variance\n",
    "vara = varg/k \n",
    "λ = vare/vara\n",
    "srand(123)\n",
    "M = sample([0,1,2],(n,k))\n",
    "mu = 10\n",
    "ONE = ones(n)\n",
    "mk_effect = rand(Normal(0.0, sqrt(vara)), k)\n",
    "y = ONE*mu + M*mk_effect + rand(Normal(0.0, sqrt(vare)), n)\n",
    "lhs = [ONE'ONE ONE'M\n",
    "    M'ONE M'M + λ*eye(k)]\n",
    "rhs = [ONE'y\n",
    "      M'y]\n",
    "invlhs = inv(lhs)\n",
    "sol = invlhs*rhs\n",
    "GEBV =  M*sol[2:end]"
   ]
  },
  {
   "cell_type": "code",
   "execution_count": 2,
   "metadata": {
    "collapsed": false
   },
   "outputs": [
    {
     "data": {
      "text/plain": [
       "10x1 Array{Float64,2}:\n",
       " -0.988626\n",
       " -1.66735 \n",
       " -1.15335 \n",
       " -4.8944  \n",
       "  0.599861\n",
       "  2.99835 \n",
       " -7.49974 \n",
       " -1.25973 \n",
       " -0.854838\n",
       " -0.639961"
      ]
     },
     "execution_count": 2,
     "metadata": {},
     "output_type": "execute_result"
    }
   ],
   "source": [
    "# using gibbs sampling to solve the MME (from Just Jensen's Acta 1994 paper)\n",
    "mu = mean(y)\n",
    "#alpha = fill(0.01,k)\n",
    "sol = fill(0.01,k+1)\n",
    "inter = 500000\n",
    "burnin = 200000\n",
    "step = 50\n",
    "alphastore = fill(0.0, inter, k)\n",
    "alphastore2 = fill(0.0, int((inter-burnin)/step + 1), k)\n",
    "srand(123)\n",
    "for i=1:inter\n",
    "    # sampling mu and alpha\n",
    "    for j=1:k+1\n",
    "        temp = vec(lhs[j, :])\n",
    "        splice!(temp, j)\n",
    "        temp2 = copy(sol)\n",
    "        splice!(temp2, j)\n",
    "        me = (rhs[j] - dot(temp, temp2))/lhs[j,j] \n",
    "        va = vare/lhs[j,j]\n",
    "        sol[j] = me + randn()*sqrt(va)\n",
    "    end\n",
    "    alphastore[i,:] = sol[2:end]   \n",
    "end\n",
    "\n",
    "alphastore2 = alphastore[burnin:step:inter, :] \n",
    "\n",
    "alpha=mean(alphastore2, 1)\n",
    "GEBV4=M*alpha'"
   ]
  },
  {
   "cell_type": "code",
   "execution_count": 3,
   "metadata": {
    "collapsed": false
   },
   "outputs": [
    {
     "data": {
      "text/plain": [
       "10x1 Array{Float64,2}:\n",
       " -0.988626\n",
       " -1.66735 \n",
       " -1.15335 \n",
       " -4.8944  \n",
       "  0.599861\n",
       "  2.99835 \n",
       " -7.49974 \n",
       " -1.25973 \n",
       " -0.854838\n",
       " -0.639961"
      ]
     },
     "execution_count": 3,
     "metadata": {},
     "output_type": "execute_result"
    }
   ],
   "source": [
    "# Gibbs sampler using residual updating\n",
    "# BayesC0 for the sample example as upper\n",
    "function sampleEffects!(nMarkers,xArray,xpx,yCorr,α,vare,varEffects)\n",
    "    for j=1:nMarkers\n",
    "        rhs      = dot(xArray[:,j],yCorr) + xpx[j]*α[j]   \n",
    "        lhs      = xpx[j] + vare/varEffects\n",
    "        invLhs   = 1.0/lhs\n",
    "        me       = invLhs*rhs\n",
    "        oldAlpha = α[j] \n",
    "        α[j] = me + randn()*sqrt(invLhs*vare)\n",
    "        BLAS.axpy!(oldAlpha-α[j],xArray[:,j],yCorr)  \n",
    "    end\n",
    "    nothing\n",
    "end\n",
    "srand(123)\n",
    "varEffects = 1.0   # marker variance\n",
    "vare=1.0\n",
    "mu = mean(y)\n",
    "alpha = fill(0.01,k)\n",
    "nObs = 10\n",
    "mpm=diag(M'M)\n",
    "inter = 500000\n",
    "burnin = 200000\n",
    "step = 50\n",
    "alphastore = fill(0.0, inter, k)\n",
    "alphastore2 = fill(0.0, int((inter-burnin)/step + 1), k)\n",
    "yCorr = y - mu - M*alpha\n",
    "for i=1:inter        \n",
    "        # sample intercept\n",
    "        yCorr  = yCorr + mu\n",
    "        rhs    = sum(yCorr)                   \n",
    "        invLhs = 1.0/(nObs)               \n",
    "        me     = invLhs*rhs   \n",
    "        mu     = me + randn()*sqrt(invLhs*vare)\n",
    "        yCorr  = yCorr - mu                    \n",
    "        \n",
    "        # sample effects\n",
    "        sampleEffects!(k,M,mpm,yCorr,alpha,vare,varEffects)\n",
    "        alphastore[i,:] = alpha        \n",
    "end\n",
    "alphastore2 = alphastore[burnin:step:inter, :] \n",
    "alpha=mean(alphastore2, 1)\n",
    "GEBV3 = M*alpha'"
   ]
  },
  {
   "cell_type": "code",
   "execution_count": 12,
   "metadata": {
    "collapsed": false
   },
   "outputs": [
    {
     "ename": "LoadError",
     "evalue": "DimensionMismatch(\"dot product arguments have lengths 16 and 15\")\nwhile loading In[12], in expression starting on line 1",
     "output_type": "error",
     "traceback": [
      "DimensionMismatch(\"dot product arguments have lengths 16 and 15\")\nwhile loading In[12], in expression starting on line 1",
      "",
      " in dot at linalg/blas.jl:146",
      " in dot at linalg/matmul.jl:32"
     ]
    }
   ],
   "source": [
    "dot(vec(lhs[1,:]),vec(alpha))"
   ]
  },
  {
   "cell_type": "code",
   "execution_count": 11,
   "metadata": {
    "collapsed": false
   },
   "outputs": [
    {
     "data": {
      "text/plain": [
       "1x15 Array{Float64,2}:\n",
       " -0.470992  0.852028  -0.572846  0.221159  …  -0.307005  -1.17163  1.07891"
      ]
     },
     "execution_count": 11,
     "metadata": {},
     "output_type": "execute_result"
    }
   ],
   "source": [
    "alpha"
   ]
  },
  {
   "cell_type": "code",
   "execution_count": null,
   "metadata": {
    "collapsed": true
   },
   "outputs": [],
   "source": []
  }
 ],
 "metadata": {
  "kernelspec": {
   "display_name": "Julia 0.3.11",
   "language": "julia",
   "name": "julia-0.3"
  },
  "language_info": {
   "name": "julia",
   "version": "0.3.11"
  }
 },
 "nbformat": 4,
 "nbformat_minor": 0
}
