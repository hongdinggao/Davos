{
 "cells": [
  {
   "cell_type": "code",
   "execution_count": 3,
   "metadata": {
    "collapsed": false
   },
   "outputs": [
    {
     "data": {
      "text/plain": [
       "10-element Array{Float64,1}:\n",
       " -0.964976\n",
       " -1.63135 \n",
       " -1.10211 \n",
       " -4.84306 \n",
       "  0.642259\n",
       "  3.0403  \n",
       " -7.43588 \n",
       " -1.20203 \n",
       " -0.810783\n",
       " -0.591994"
      ]
     },
     "execution_count": 3,
     "metadata": {},
     "output_type": "execute_result"
    }
   ],
   "source": [
    "using Distributions\n",
    "n = 10  # number of observations\n",
    "k = 15  # number of markers\n",
    "varg = 15  # total genetic genetic variance\n",
    "vare = 1.0  # residual variance\n",
    "vara = varg/k \n",
    "λ = vare/vara\n",
    "srand(123)\n",
    "M = sample([0,1,2],(n,k))\n",
    "mu = 10\n",
    "ONE = ones(n)\n",
    "mk_effect = rand(Normal(0.0, sqrt(vara)), k)\n",
    "y = ONE*mu + M*mk_effect + rand(Normal(0.0, sqrt(vare)), n)\n",
    "lhs = [ONE'ONE ONE'M\n",
    "    M'ONE M'M + λ*eye(k)]\n",
    "rhs = [ONE'y\n",
    "      M'y]\n",
    "invlhs = inv(lhs)\n",
    "sol = invlhs*rhs\n",
    "GEBV =  M*sol[2:end]"
   ]
  },
  {
   "cell_type": "code",
   "execution_count": 76,
   "metadata": {
    "collapsed": false
   },
   "outputs": [
    {
     "data": {
      "text/plain": [
       "10x1 Array{Float64,2}:\n",
       " -0.949853\n",
       " -1.57414 \n",
       " -1.0673  \n",
       " -4.80255 \n",
       "  0.660154\n",
       "  3.03097 \n",
       " -7.40893 \n",
       " -1.2354  \n",
       " -0.786967\n",
       " -0.559263"
      ]
     },
     "execution_count": 76,
     "metadata": {},
     "output_type": "execute_result"
    }
   ],
   "source": [
    "# using gibbs sampling to solve the MME\n",
    "mu = mean(y)\n",
    "alpha = fill(0.01,k)\n",
    "inter = 50000\n",
    "burnin = 20000\n",
    "step = 50\n",
    "alphastore = fill(0.0, inter, k)\n",
    "alphastore2 = fill(0.0, int((inter-burnin)/step + 1), k)\n",
    "srand(123)\n",
    "for i=1:inter\n",
    "    # sampling mu\n",
    "    me = (ONE'y - ONE'M*alpha)[1]/n\n",
    "    va = vare/n\n",
    "    mu = me + randn()*sqrt(va)\n",
    "    # sampling alpha\n",
    "    for j=1:k\n",
    "        temp = vec(lhs[j+1, :])\n",
    "        splice!(temp, j+1)\n",
    "        temp2 = copy(alpha)\n",
    "        splice!(temp2, j)\n",
    "        me = ((M'y)[j] - dot(temp, [mu, temp2]))/lhs[j+1,j+1] \n",
    "        va = vare/lhs[j+1,j+1]\n",
    "        alpha[j] = me + randn()*sqrt(va)\n",
    "    end\n",
    "    alphastore[i,:] = alpha   \n",
    "end\n",
    "\n",
    "alphastore2 = alphastore[burnin:step:inter, :] \n",
    "\n",
    "alpha=mean(alphastore2, 1)\n",
    "GEBV4=M*alpha'"
   ]
  },
  {
   "cell_type": "code",
   "execution_count": 4,
   "metadata": {
    "collapsed": false
   },
   "outputs": [
    {
     "data": {
      "text/plain": [
       "10x1 Array{Float64,2}:\n",
       " -0.949853\n",
       " -1.57414 \n",
       " -1.0673  \n",
       " -4.80255 \n",
       "  0.660154\n",
       "  3.03097 \n",
       " -7.40893 \n",
       " -1.2354  \n",
       " -0.786967\n",
       " -0.559263"
      ]
     },
     "execution_count": 4,
     "metadata": {},
     "output_type": "execute_result"
    }
   ],
   "source": [
    "# using gibbs sampling to solve the MME\n",
    "mu = mean(y)\n",
    "#alpha = fill(0.01,k)\n",
    "sol = fill(0.01,k+1)\n",
    "inter = 50000\n",
    "burnin = 20000\n",
    "step = 50\n",
    "alphastore = fill(0.0, inter, k)\n",
    "alphastore2 = fill(0.0, int((inter-burnin)/step + 1), k)\n",
    "srand(123)\n",
    "for i=1:inter\n",
    "    # sampling mu and alpha\n",
    "    for j=1:k+1\n",
    "        temp = vec(lhs[j, :])\n",
    "        splice!(temp, j)\n",
    "        temp2 = copy(sol)\n",
    "        splice!(temp2, j)\n",
    "        me = (rhs[j] - dot(temp, temp2))/lhs[j,j] \n",
    "        va = vare/lhs[j,j]\n",
    "        sol[j] = me + randn()*sqrt(va)\n",
    "    end\n",
    "    alphastore[i,:] = sol[2:end]   \n",
    "end\n",
    "\n",
    "alphastore2 = alphastore[burnin:step:inter, :] \n",
    "\n",
    "alpha=mean(alphastore2, 1)\n",
    "GEBV4=M*alpha'"
   ]
  },
  {
   "cell_type": "code",
   "execution_count": 74,
   "metadata": {
    "collapsed": false
   },
   "outputs": [
    {
     "data": {
      "text/plain": [
       "16-element Array{Float64,1}:\n",
       " 11.832\n",
       "  0.01 \n",
       "  0.01 \n",
       "  0.01 \n",
       "  0.01 \n",
       "  0.01 \n",
       "  0.01 \n",
       "  0.01 \n",
       "  0.01 \n",
       "  0.01 \n",
       "  0.01 \n",
       "  0.01 \n",
       "  0.01 \n",
       "  0.01 \n",
       "  0.01 \n",
       "  0.01 "
      ]
     },
     "execution_count": 74,
     "metadata": {},
     "output_type": "execute_result"
    }
   ],
   "source": [
    "alpha = fill(0.01,k)\n",
    "[mu,alpha]"
   ]
  },
  {
   "cell_type": "code",
   "execution_count": 64,
   "metadata": {
    "collapsed": false,
    "scrolled": true
   },
   "outputs": [
    {
     "data": {
      "text/plain": [
       "10x1 Array{Float64,2}:\n",
       " -0.809879\n",
       " -1.49086 \n",
       " -1.03103 \n",
       " -4.70261 \n",
       "  0.717804\n",
       "  3.04628 \n",
       " -7.29235 \n",
       " -1.15779 \n",
       " -0.697985\n",
       " -0.523534"
      ]
     },
     "execution_count": 64,
     "metadata": {},
     "output_type": "execute_result"
    }
   ],
   "source": [
    "# BayesC0 for the sample example as upper\n",
    "function sampleEffects!(nMarkers,xArray,xpx,yCorr,α,meanAlpha,vare,varEffects)\n",
    "    #nObs = 10\n",
    "    for j=1:nMarkers\n",
    "        rhs      = dot(xArray[:,j],yCorr) + xpx[j]*α[j]   \n",
    "        lhs      = xpx[j] + vare/varEffects\n",
    "        invLhs   = 1.0/lhs\n",
    "        mean     = invLhs*rhs\n",
    "        oldAlpha = α[j] \n",
    "        α[j] = mean + randn()*sqrt(invLhs*vare)\n",
    "        BLAS.axpy!(oldAlpha-α[j],xArray[:,j],yCorr)  \n",
    "    end\n",
    "    nothing\n",
    "end\n",
    "srand(123)\n",
    "meanMu    = 0\n",
    "meanAlpha = zeros(k)\n",
    "varEffects = 1.0\n",
    "mu = mean(y)\n",
    "yCorr = y - mu\n",
    "alpha = fill(0.01,k)\n",
    "nObs = 10\n",
    "mpm=diag(M'M)\n",
    "vare=1.0\n",
    "inter = 50000\n",
    "burnin = 20000\n",
    "step = 20\n",
    "alphastore = fill(0.0, inter, k)\n",
    "alphastore2 = fill(0.0, int((inter-burnin)/step + 1), k)\n",
    "for i=1:inter        \n",
    "        # sample intercept\n",
    "        yCorr  = yCorr+mu\n",
    "        rhs    = sum(yCorr)                   \n",
    "        invLhs = 1.0/(nObs)               \n",
    "        mean   = rhs*invLhs   \n",
    "        mu     = mean + randn()*sqrt(invLhs*vare)\n",
    "        yCorr  = yCorr - mu                    \n",
    "        meanMu = meanMu + (mu - meanMu)/i\n",
    "        \n",
    "        # sample effects\n",
    "    sampleEffects!(k,M,mpm,yCorr,alpha,meanAlpha,vare,varEffects)\n",
    "    alphastore[i,:] = alpha        \n",
    "end\n",
    "alphastore2 = alphastore[burnin:step:inter, :] \n",
    "\n",
    "alpha=mean(alphastore2, 1)\n",
    "GEBV3 = M*alpha'"
   ]
  },
  {
   "cell_type": "code",
   "execution_count": null,
   "metadata": {
    "collapsed": true
   },
   "outputs": [],
   "source": []
  }
 ],
 "metadata": {
  "kernelspec": {
   "display_name": "Julia 0.3.11",
   "language": "julia",
   "name": "julia-0.3"
  },
  "language_info": {
   "name": "julia",
   "version": "0.3.11"
  }
 },
 "nbformat": 4,
 "nbformat_minor": 0
}
